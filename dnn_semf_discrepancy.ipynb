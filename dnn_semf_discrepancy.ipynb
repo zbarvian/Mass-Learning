{
 "cells": [
  {
   "cell_type": "code",
   "execution_count": 1,
   "metadata": {},
   "outputs": [],
   "source": [
    "import pandas as pd\n",
    "import numpy as np\n",
    "import matplotlib.pyplot as plt\n",
    "from hyperopt import fmin, hp, Trials, tpe, STATUS_OK\n",
    "\n",
    "#tensor flow import and warning suppression\n",
    "import os\n",
    "import logging\n",
    "#os.environ['KMP_DUPLICATE_LIB_OK']='True'\n",
    "os.environ['TF_CPP_MIN_LOG_LEVEL'] = '3'  # FATAL\n",
    "logging.getLogger('tensorflow').setLevel(logging.FATAL)\n",
    "import tensorflow as tf\n",
    "from tensorflow import keras\n",
    "from tensorflow.keras import layers\n",
    "\n",
    "from sklearn.model_selection import train_test_split\n",
    "from sklearn.metrics import r2_score\n",
    "\n",
    "params = {'font.size': 18,\n",
    "          'axes.linewidth':1}\n",
    "plt.rcParams.update(params)"
   ]
  },
  {
   "cell_type": "markdown",
   "metadata": {},
   "source": [
    "## Importing Experimental Data (AME2016)"
   ]
  },
  {
   "cell_type": "code",
   "execution_count": 2,
   "metadata": {},
   "outputs": [
    {
     "data": {
      "text/html": [
       "<div>\n",
       "<style scoped>\n",
       "    .dataframe tbody tr th:only-of-type {\n",
       "        vertical-align: middle;\n",
       "    }\n",
       "\n",
       "    .dataframe tbody tr th {\n",
       "        vertical-align: top;\n",
       "    }\n",
       "\n",
       "    .dataframe thead th {\n",
       "        text-align: right;\n",
       "    }\n",
       "</style>\n",
       "<table border=\"1\" class=\"dataframe\">\n",
       "  <thead>\n",
       "    <tr style=\"text-align: right;\">\n",
       "      <th></th>\n",
       "      <th>A</th>\n",
       "      <th>N</th>\n",
       "      <th>Z</th>\n",
       "      <th>E</th>\n",
       "      <th>E/A</th>\n",
       "    </tr>\n",
       "  </thead>\n",
       "  <tbody>\n",
       "    <tr>\n",
       "      <th>3428</th>\n",
       "      <td>293</td>\n",
       "      <td>176</td>\n",
       "      <td>117</td>\n",
       "      <td>-2077.388399</td>\n",
       "      <td>-7.090063</td>\n",
       "    </tr>\n",
       "    <tr>\n",
       "      <th>3429</th>\n",
       "      <td>294</td>\n",
       "      <td>177</td>\n",
       "      <td>117</td>\n",
       "      <td>-2083.601399</td>\n",
       "      <td>-7.087080</td>\n",
       "    </tr>\n",
       "    <tr>\n",
       "      <th>3430</th>\n",
       "      <td>293</td>\n",
       "      <td>175</td>\n",
       "      <td>118</td>\n",
       "      <td>-2072.079974</td>\n",
       "      <td>-7.071945</td>\n",
       "    </tr>\n",
       "    <tr>\n",
       "      <th>3431</th>\n",
       "      <td>294</td>\n",
       "      <td>176</td>\n",
       "      <td>118</td>\n",
       "      <td>-2079.744974</td>\n",
       "      <td>-7.073962</td>\n",
       "    </tr>\n",
       "    <tr>\n",
       "      <th>3432</th>\n",
       "      <td>295</td>\n",
       "      <td>177</td>\n",
       "      <td>118</td>\n",
       "      <td>-2085.643974</td>\n",
       "      <td>-7.069980</td>\n",
       "    </tr>\n",
       "  </tbody>\n",
       "</table>\n",
       "</div>"
      ],
      "text/plain": [
       "        A    N    Z            E       E/A\n",
       "3428  293  176  117 -2077.388399 -7.090063\n",
       "3429  294  177  117 -2083.601399 -7.087080\n",
       "3430  293  175  118 -2072.079974 -7.071945\n",
       "3431  294  176  118 -2079.744974 -7.073962\n",
       "3432  295  177  118 -2085.643974 -7.069980"
      ]
     },
     "execution_count": 2,
     "metadata": {},
     "output_type": "execute_result"
    }
   ],
   "source": [
    "data = pd.read_csv('EXPERIMENT_AME2016.dat', sep=r'\\s+', usecols=['A', 'N', 'Z', 'E', 'E/A'])\n",
    "data.tail()"
   ]
  },
  {
   "cell_type": "markdown",
   "metadata": {},
   "source": [
    "## Finding SEMF parameters by data-fitting"
   ]
  },
  {
   "cell_type": "code",
   "execution_count": 3,
   "metadata": {},
   "outputs": [
    {
     "data": {
      "text/html": [
       "<div>\n",
       "<style scoped>\n",
       "    .dataframe tbody tr th:only-of-type {\n",
       "        vertical-align: middle;\n",
       "    }\n",
       "\n",
       "    .dataframe tbody tr th {\n",
       "        vertical-align: top;\n",
       "    }\n",
       "\n",
       "    .dataframe thead th {\n",
       "        text-align: right;\n",
       "    }\n",
       "</style>\n",
       "<table border=\"1\" class=\"dataframe\">\n",
       "  <thead>\n",
       "    <tr style=\"text-align: right;\">\n",
       "      <th></th>\n",
       "      <th>A</th>\n",
       "      <th>N</th>\n",
       "      <th>Z</th>\n",
       "      <th>E</th>\n",
       "      <th>E/A</th>\n",
       "      <th>semf_surface</th>\n",
       "      <th>semf_coulomb</th>\n",
       "      <th>semf_asymmetry</th>\n",
       "      <th>semf_pairing</th>\n",
       "    </tr>\n",
       "  </thead>\n",
       "  <tbody>\n",
       "    <tr>\n",
       "      <th>3428</th>\n",
       "      <td>293</td>\n",
       "      <td>176</td>\n",
       "      <td>117</td>\n",
       "      <td>-2077.388399</td>\n",
       "      <td>-7.090063</td>\n",
       "      <td>-44.114201</td>\n",
       "      <td>-2043.405906</td>\n",
       "      <td>-11.880546</td>\n",
       "      <td>0.000000</td>\n",
       "    </tr>\n",
       "    <tr>\n",
       "      <th>3429</th>\n",
       "      <td>294</td>\n",
       "      <td>177</td>\n",
       "      <td>117</td>\n",
       "      <td>-2083.601399</td>\n",
       "      <td>-7.087080</td>\n",
       "      <td>-44.214517</td>\n",
       "      <td>-2041.086487</td>\n",
       "      <td>-12.244898</td>\n",
       "      <td>-0.058321</td>\n",
       "    </tr>\n",
       "    <tr>\n",
       "      <th>3430</th>\n",
       "      <td>293</td>\n",
       "      <td>175</td>\n",
       "      <td>118</td>\n",
       "      <td>-2072.079974</td>\n",
       "      <td>-7.071945</td>\n",
       "      <td>-44.114201</td>\n",
       "      <td>-2078.637042</td>\n",
       "      <td>-11.088737</td>\n",
       "      <td>0.000000</td>\n",
       "    </tr>\n",
       "    <tr>\n",
       "      <th>3431</th>\n",
       "      <td>294</td>\n",
       "      <td>176</td>\n",
       "      <td>118</td>\n",
       "      <td>-2079.744974</td>\n",
       "      <td>-7.073962</td>\n",
       "      <td>-44.214517</td>\n",
       "      <td>-2076.277633</td>\n",
       "      <td>-11.442177</td>\n",
       "      <td>0.058321</td>\n",
       "    </tr>\n",
       "    <tr>\n",
       "      <th>3432</th>\n",
       "      <td>295</td>\n",
       "      <td>177</td>\n",
       "      <td>118</td>\n",
       "      <td>-2085.643974</td>\n",
       "      <td>-7.069980</td>\n",
       "      <td>-44.314720</td>\n",
       "      <td>-2073.928901</td>\n",
       "      <td>-11.800000</td>\n",
       "      <td>0.000000</td>\n",
       "    </tr>\n",
       "  </tbody>\n",
       "</table>\n",
       "</div>"
      ],
      "text/plain": [
       "        A    N    Z            E       E/A  semf_surface  semf_coulomb  \\\n",
       "3428  293  176  117 -2077.388399 -7.090063    -44.114201  -2043.405906   \n",
       "3429  294  177  117 -2083.601399 -7.087080    -44.214517  -2041.086487   \n",
       "3430  293  175  118 -2072.079974 -7.071945    -44.114201  -2078.637042   \n",
       "3431  294  176  118 -2079.744974 -7.073962    -44.214517  -2076.277633   \n",
       "3432  295  177  118 -2085.643974 -7.069980    -44.314720  -2073.928901   \n",
       "\n",
       "      semf_asymmetry  semf_pairing  \n",
       "3428      -11.880546      0.000000  \n",
       "3429      -12.244898     -0.058321  \n",
       "3430      -11.088737      0.000000  \n",
       "3431      -11.442177      0.058321  \n",
       "3432      -11.800000      0.000000  "
      ]
     },
     "execution_count": 3,
     "metadata": {},
     "output_type": "execute_result"
    }
   ],
   "source": [
    "# First add coefficients of each term in the formula to the dataset \n",
    "data['semf_surface'] = -data['A']**(2/3)\n",
    "data['semf_coulomb'] = -data['Z']*(data['Z'] -1)/data['A']**(1/3)\n",
    "data['semf_asymmetry'] = -(data['A'] - 2*data['Z'])**2/data['A']\n",
    "data['semf_pairing'] = data['A']*0 \n",
    "\n",
    "# Odd-even pairing delta \n",
    "for i in data.index:\n",
    "    mass_num = data.loc[i, 'A']\n",
    "    if mass_num % 2 == 0:\n",
    "        if data.loc[i, 'Z'] % 2 == 0:\n",
    "            data.loc[i, 'semf_pairing'] = mass_num**(-0.5)\n",
    "        elif data.loc[i, 'Z'] % 2 == 1: \n",
    "            data.loc[i, 'semf_pairing'] = -mass_num**(-0.5)\n",
    "\n",
    "data.tail()"
   ]
  },
  {
   "cell_type": "code",
   "execution_count": 4,
   "metadata": {},
   "outputs": [
    {
     "name": "stdout",
     "output_type": "stream",
     "text": [
      "[-15.22386531 -16.13579075  -0.68717534 -22.12622667 -10.04107   ]\n"
     ]
    }
   ],
   "source": [
    "# Convert into coefficient matrix \n",
    "coeff = np.asarray([data['A'], data['semf_surface'], data['semf_coulomb'],\n",
    "    data['semf_asymmetry'], data['semf_pairing']])\n",
    "coeff = coeff.T\n",
    "y = data['E']\n",
    "params = np.linalg.lstsq(coeff, y, rcond=None)[0]\n",
    "print(params)"
   ]
  },
  {
   "cell_type": "code",
   "execution_count": 22,
   "metadata": {},
   "outputs": [
    {
     "data": {
      "image/png": "[encoded data removed]",
      "text/plain": [
       "<Figure size 432x288 with 1 Axes>"
      ]
     },
     "metadata": {
      "needs_background": "light"
     },
     "output_type": "display_data"
    }
   ],
   "source": [
    "# Add SEMF predictions to dataset, plot comparison \n",
    "data['semf_E/A'] = (params[0]*data['A'] + params[1]*data['semf_surface'] + params[2]*data['semf_coulomb']\n",
    "    + params[3]*data['semf_asymmetry'] + params[4]*data['semf_pairing'])/data['A']\n",
    "\n",
    "plt.scatter(data['A'], (data['semf_E/A'] - data['E/A']), label='SEMF Error')\n",
    "plt.xlim(30, 300)\n",
    "plt.ylim(0, 0.5)\n",
    "plt.xlabel('A')\n",
    "plt.ylabel('E/A error')\n",
    "plt.legend()\n",
    "plt.show()"
   ]
  },
  {
   "cell_type": "markdown",
   "metadata": {},
   "source": [
    "## Creating Deep Neural Network"
   ]
  },
  {
   "cell_type": "code",
   "execution_count": 17,
   "metadata": {},
   "outputs": [],
   "source": [
    "# Now, we design our model architecture to be optimized. Send a \"n_nodes\" array of length 2.  \n",
    "\n",
    "def dnn_model(df, features, target, n_epochs, n_nodes, dropout_frac, function):\n",
    "    x_features = df[features]\n",
    "    y_target = df[target]\n",
    "    batch_size = 64\n",
    "    x_train, x_test, y_train, y_test = train_test_split(x_features,y_target,train_size=0.8)\n",
    "    normalizer = tf.keras.layers.Normalization(axis=-1)\n",
    "    normalizer.adapt(np.array(x_train))\n",
    "    DNN_model = keras.Sequential([\n",
    "      normalizer,\n",
    "      layers.Dropout(dropout_frac),\n",
    "      layers.Dense(n_nodes[0], activation=function),\n",
    "      layers.Dropout(dropout_frac),\n",
    "      layers.Dense(n_nodes[1], activation=function),\n",
    "      layers.Dropout(dropout_frac),\n",
    "      layers.Dense(1)])\n",
    "    DNN_model.compile(loss='mean_squared_error',\n",
    "        optimizer=tf.keras.optimizers.Adam())\n",
    "    history=DNN_model.fit(x_train, y_train,\n",
    "        batch_size=batch_size,\n",
    "        epochs=n_epochs,\n",
    "        verbose=0,\n",
    "        validation_data=(x_test, y_test))\n",
    "    train_score = r2_score(y_train, DNN_model.predict(x_train))\n",
    "    test_score = r2_score(y_test, DNN_model.predict(x_test))\n",
    "    print('Training Score:', train_score)\n",
    "    print('Test Score:', test_score)\n",
    "    y_prediction = DNN_model.predict(x_features)\n",
    "    #UNCOMMENT FOR HYPERPARAMETER OPTIMIZATION \n",
    "    #return train_score, test_score \n",
    "    #UNCOMMENT FOR PREDICTIONS\n",
    "    return y_prediction"
   ]
  },
  {
   "cell_type": "markdown",
   "metadata": {},
   "source": [
    "## Refining Architecture through Hyperparameter Optimization "
   ]
  },
  {
   "cell_type": "code",
   "execution_count": 7,
   "metadata": {},
   "outputs": [],
   "source": [
    "features = ['A', 'semf_surface', 'semf_coulomb', 'semf_asymmetry', 'semf_pairing']\n",
    "\n",
    "def dnn_evaluate(hyparms):\n",
    "    n_nodes1 = int(hyparms['n_nodes1'])\n",
    "    n_nodes2 = int(hyparms['n_nodes2'])\n",
    "    nodes = [n_nodes1, n_nodes2]\n",
    "    frac_dropout = float(hyparms['frac_dropout'])\n",
    "    n_epochs = int(hyparms['n_epochs'])\n",
    "    act_func = (hyparms['act_func'])\n",
    "    model_score = dnn_model(data, features, 'E/A', n_epochs, nodes, frac_dropout, act_func)[1] #Define model\n",
    "    return -model_score #Maximize R^2_test = Minimize (-R^2_test)"
   ]
  },
  {
   "cell_type": "code",
   "execution_count": 8,
   "metadata": {},
   "outputs": [],
   "source": [
    "space = {\n",
    "    'frac_dropout': hp.uniform('frac_dropout', 0., 0.5),\n",
    "    'n_nodes1': hp.quniform('n_nodes1', 10,500,10),\n",
    "    'n_nodes2': hp.quniform('n_nodes2', 10,500,10),\n",
    "    'n_epochs': hp.quniform('n_epochs', 10,5000,10),\n",
    "    'act_func': hp.choice('act_func',['relu','sigmoid', 'tanh'])\n",
    "}\n",
    "\n",
    "#results object\n",
    "trials = Trials()"
   ]
  },
  {
   "cell_type": "code",
   "execution_count": null,
   "metadata": {},
   "outputs": [],
   "source": [
    "#Optimize \n",
    "hyperoptBest = fmin(dnn_evaluate, space, algo=tpe.suggest, max_evals=30, trials=trials)\n",
    "\n",
    "print(\"R2_test\",-trials.best_trial['result']['loss'])\n",
    "print(hyperoptBest)"
   ]
  },
  {
   "cell_type": "code",
   "execution_count": 19,
   "metadata": {},
   "outputs": [
    {
     "name": "stdout",
     "output_type": "stream",
     "text": [
      "Training Score: 0.9973803389002375\n",
      "Test Score: 0.9783825065806245\n"
     ]
    }
   ],
   "source": [
    "# Recording the best parameters from the optimization\n",
    "act_func = 'relu'\n",
    "frac_dropout = 0\n",
    "n_epochs = 5000\n",
    "nodes = [480, 50]\n",
    "\n",
    "data['dnn_E/A'] = dnn_model(data, features, 'E/A', n_epochs, nodes, frac_dropout, act_func)"
   ]
  },
  {
   "cell_type": "code",
   "execution_count": 21,
   "metadata": {},
   "outputs": [
    {
     "data": {
      "image/png": "[encoded data removed]",
      "text/plain": [
       "<Figure size 432x288 with 1 Axes>"
      ]
     },
     "metadata": {
      "needs_background": "light"
     },
     "output_type": "display_data"
    }
   ],
   "source": [
    "plt.scatter(data['A'], (data['semf_E/A'] - data['E/A']), label='SEMF Error')\n",
    "plt.scatter(data['A'], (data['dnn_E/A'] - data['E/A']), label='DNN Error')\n",
    "plt.xlim(30, 300)\n",
    "plt.ylim(0, 0.5)\n",
    "plt.xlabel('A')\n",
    "plt.ylabel('E/A error')\n",
    "plt.legend()\n",
    "plt.show()"
   ]
  }
 ],
 "metadata": {
  "interpreter": {
   "hash": "4ec7c9a2149e7ca27f22d77cf766247da242708e0f4eab11c76049153c59f45f"
  },
  "kernelspec": {
   "display_name": "Python 3.9.10 ('base')",
   "language": "python",
   "name": "python3"
  },
  "language_info": {
   "codemirror_mode": {
    "name": "ipython",
    "version": 3
   },
   "file_extension": ".py",
   "mimetype": "text/x-python",
   "name": "python",
   "nbconvert_exporter": "python",
   "pygments_lexer": "ipython3",
   "version": "3.9.10"
  },
  "orig_nbformat": 4
 },
 "nbformat": 4,
 "nbformat_minor": 2
}
