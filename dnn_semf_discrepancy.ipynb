{
 "cells": [
  {
   "cell_type": "markdown",
   "metadata": {},
   "source": [
    "# Packages!"
   ]
  },
  {
   "cell_type": "code",
   "execution_count": 1,
   "metadata": {},
   "outputs": [],
   "source": [
    "# Usual suspects\n",
    "import pandas as pd\n",
    "import numpy as np\n",
    "import matplotlib.pyplot as plt\n",
    "\n",
    "# ML packages\n",
    "import tensorflow as tf\n",
    "from tensorflow import keras\n",
    "from tensorflow.keras import layers\n",
    "from hyperopt import fmin, hp, Trials, tpe, STATUS_OK\n",
    "from sklearn.model_selection import train_test_split\n",
    "# TensorFlow warning suppression\n",
    "import os\n",
    "import logging\n",
    "os.environ['TF_CPP_MIN_LOG_LEVEL'] = '3' \n",
    "logging.getLogger('tensorflow').setLevel(logging.FATAL)\n",
    "\n",
    "params = {'font.size': 18,\n",
    "          'axes.linewidth':1}\n",
    "plt.rcParams.update(params)"
   ]
  },
  {
   "cell_type": "markdown",
   "metadata": {},
   "source": [
    "# Importing Experimental Data (AME2016)\n",
    "### Reading the experimental data into a Pandas dataframe. The SEMF is a liquid drop model and is more accurate for larger nuclei, so we'll only fit on elements $Z \\ge 20$."
   ]
  },
  {
   "cell_type": "code",
   "execution_count": 2,
   "metadata": {},
   "outputs": [
    {
     "data": {
      "text/html": [
       "<div>\n",
       "<style scoped>\n",
       "    .dataframe tbody tr th:only-of-type {\n",
       "        vertical-align: middle;\n",
       "    }\n",
       "\n",
       "    .dataframe tbody tr th {\n",
       "        vertical-align: top;\n",
       "    }\n",
       "\n",
       "    .dataframe thead th {\n",
       "        text-align: right;\n",
       "    }\n",
       "</style>\n",
       "<table border=\"1\" class=\"dataframe\">\n",
       "  <thead>\n",
       "    <tr style=\"text-align: right;\">\n",
       "      <th></th>\n",
       "      <th>A</th>\n",
       "      <th>N</th>\n",
       "      <th>Z</th>\n",
       "      <th>E</th>\n",
       "      <th>E/A</th>\n",
       "    </tr>\n",
       "  </thead>\n",
       "  <tbody>\n",
       "    <tr>\n",
       "      <th>350</th>\n",
       "      <td>34</td>\n",
       "      <td>14</td>\n",
       "      <td>20</td>\n",
       "      <td>-244.917409</td>\n",
       "      <td>-7.203453</td>\n",
       "    </tr>\n",
       "    <tr>\n",
       "      <th>351</th>\n",
       "      <td>35</td>\n",
       "      <td>15</td>\n",
       "      <td>20</td>\n",
       "      <td>-262.026409</td>\n",
       "      <td>-7.486469</td>\n",
       "    </tr>\n",
       "    <tr>\n",
       "      <th>352</th>\n",
       "      <td>36</td>\n",
       "      <td>16</td>\n",
       "      <td>20</td>\n",
       "      <td>-281.353053</td>\n",
       "      <td>-7.815363</td>\n",
       "    </tr>\n",
       "    <tr>\n",
       "      <th>353</th>\n",
       "      <td>37</td>\n",
       "      <td>17</td>\n",
       "      <td>20</td>\n",
       "      <td>-296.109281</td>\n",
       "      <td>-8.002954</td>\n",
       "    </tr>\n",
       "    <tr>\n",
       "      <th>354</th>\n",
       "      <td>38</td>\n",
       "      <td>18</td>\n",
       "      <td>20</td>\n",
       "      <td>-313.103043</td>\n",
       "      <td>-8.239554</td>\n",
       "    </tr>\n",
       "  </tbody>\n",
       "</table>\n",
       "</div>"
      ],
      "text/plain": [
       "      A   N   Z           E       E/A\n",
       "350  34  14  20 -244.917409 -7.203453\n",
       "351  35  15  20 -262.026409 -7.486469\n",
       "352  36  16  20 -281.353053 -7.815363\n",
       "353  37  17  20 -296.109281 -8.002954\n",
       "354  38  18  20 -313.103043 -8.239554"
      ]
     },
     "execution_count": 2,
     "metadata": {},
     "output_type": "execute_result"
    }
   ],
   "source": [
    "# Keeping relevant columns from AME2016 dataset \n",
    "data = pd.read_csv('EXPERIMENT_AME2016.dat', sep=r'\\s+', usecols=['A', 'N', 'Z', 'E', 'E/A'])\n",
    "data = data.loc[data['Z'] >= 20]\n",
    "data.head()"
   ]
  },
  {
   "cell_type": "markdown",
   "metadata": {},
   "source": [
    "# Finding SEMF Parameters\n",
    "### First calculating the terms in the formula. The pairing term contains a delta function that is zero when the mass number is odd, and changes sign for odd/even combinations of neutrons and protons. "
   ]
  },
  {
   "cell_type": "code",
   "execution_count": 3,
   "metadata": {},
   "outputs": [
    {
     "data": {
      "text/html": [
       "<div>\n",
       "<style scoped>\n",
       "    .dataframe tbody tr th:only-of-type {\n",
       "        vertical-align: middle;\n",
       "    }\n",
       "\n",
       "    .dataframe tbody tr th {\n",
       "        vertical-align: top;\n",
       "    }\n",
       "\n",
       "    .dataframe thead th {\n",
       "        text-align: right;\n",
       "    }\n",
       "</style>\n",
       "<table border=\"1\" class=\"dataframe\">\n",
       "  <thead>\n",
       "    <tr style=\"text-align: right;\">\n",
       "      <th></th>\n",
       "      <th>A</th>\n",
       "      <th>N</th>\n",
       "      <th>Z</th>\n",
       "      <th>E</th>\n",
       "      <th>E/A</th>\n",
       "      <th>semf_surface</th>\n",
       "      <th>semf_coulomb</th>\n",
       "      <th>semf_asymmetry</th>\n",
       "      <th>semf_pairing</th>\n",
       "    </tr>\n",
       "  </thead>\n",
       "  <tbody>\n",
       "    <tr>\n",
       "      <th>350</th>\n",
       "      <td>34</td>\n",
       "      <td>14</td>\n",
       "      <td>20</td>\n",
       "      <td>-244.917409</td>\n",
       "      <td>-7.203453</td>\n",
       "      <td>-10.495085</td>\n",
       "      <td>-117.298005</td>\n",
       "      <td>-1.058824</td>\n",
       "      <td>0.171499</td>\n",
       "    </tr>\n",
       "    <tr>\n",
       "      <th>351</th>\n",
       "      <td>35</td>\n",
       "      <td>15</td>\n",
       "      <td>20</td>\n",
       "      <td>-262.026409</td>\n",
       "      <td>-7.486469</td>\n",
       "      <td>-10.699875</td>\n",
       "      <td>-116.170069</td>\n",
       "      <td>-0.714286</td>\n",
       "      <td>0.000000</td>\n",
       "    </tr>\n",
       "    <tr>\n",
       "      <th>352</th>\n",
       "      <td>36</td>\n",
       "      <td>16</td>\n",
       "      <td>20</td>\n",
       "      <td>-281.353053</td>\n",
       "      <td>-7.815363</td>\n",
       "      <td>-10.902724</td>\n",
       "      <td>-115.084304</td>\n",
       "      <td>-0.444444</td>\n",
       "      <td>0.166667</td>\n",
       "    </tr>\n",
       "    <tr>\n",
       "      <th>353</th>\n",
       "      <td>37</td>\n",
       "      <td>17</td>\n",
       "      <td>20</td>\n",
       "      <td>-296.109281</td>\n",
       "      <td>-8.002954</td>\n",
       "      <td>-11.103702</td>\n",
       "      <td>-114.038025</td>\n",
       "      <td>-0.243243</td>\n",
       "      <td>0.000000</td>\n",
       "    </tr>\n",
       "    <tr>\n",
       "      <th>354</th>\n",
       "      <td>38</td>\n",
       "      <td>18</td>\n",
       "      <td>20</td>\n",
       "      <td>-313.103043</td>\n",
       "      <td>-8.239554</td>\n",
       "      <td>-11.302879</td>\n",
       "      <td>-113.028786</td>\n",
       "      <td>-0.105263</td>\n",
       "      <td>0.162221</td>\n",
       "    </tr>\n",
       "  </tbody>\n",
       "</table>\n",
       "</div>"
      ],
      "text/plain": [
       "      A   N   Z           E       E/A  semf_surface  semf_coulomb  \\\n",
       "350  34  14  20 -244.917409 -7.203453    -10.495085   -117.298005   \n",
       "351  35  15  20 -262.026409 -7.486469    -10.699875   -116.170069   \n",
       "352  36  16  20 -281.353053 -7.815363    -10.902724   -115.084304   \n",
       "353  37  17  20 -296.109281 -8.002954    -11.103702   -114.038025   \n",
       "354  38  18  20 -313.103043 -8.239554    -11.302879   -113.028786   \n",
       "\n",
       "     semf_asymmetry  semf_pairing  \n",
       "350       -1.058824      0.171499  \n",
       "351       -0.714286      0.000000  \n",
       "352       -0.444444      0.166667  \n",
       "353       -0.243243      0.000000  \n",
       "354       -0.105263      0.162221  "
      ]
     },
     "execution_count": 3,
     "metadata": {},
     "output_type": "execute_result"
    }
   ],
   "source": [
    "# First add coefficients of each term in the formula to the dataset \n",
    "data['semf_surface'] = -data['A']**(2/3)\n",
    "data['semf_coulomb'] = -data['Z']*(data['Z'] -1)/data['A']**(1/3)\n",
    "data['semf_asymmetry'] = -(data['A'] - 2*data['Z'])**2/data['A']\n",
    "data['semf_pairing'] = data['A']*0 \n",
    "\n",
    "\n",
    "# Odd-even delta for pairing term\n",
    "for i in data.index:\n",
    "    mass_num = data.loc[i, 'A']\n",
    "    if mass_num % 2 == 0:\n",
    "        if data.loc[i, 'Z'] % 2 == 0:\n",
    "            data.loc[i, 'semf_pairing'] = mass_num**(-0.5)\n",
    "        elif data.loc[i, 'Z'] % 2 == 1: \n",
    "            data.loc[i, 'semf_pairing'] = -mass_num**(-0.5)\n",
    "\n",
    "data.head()"
   ]
  },
  {
   "cell_type": "markdown",
   "metadata": {},
   "source": [
    "### Next, using NumPy's least squares regression to find the parameters of the SEMF terms. "
   ]
  },
  {
   "cell_type": "code",
   "execution_count": 4,
   "metadata": {},
   "outputs": [
    {
     "name": "stdout",
     "output_type": "stream",
     "text": [
      "[[-15.56054437]\n",
      " [-17.20918287]\n",
      " [ -0.708507  ]\n",
      " [-22.97878903]\n",
      " [-12.09663019]]\n"
     ]
    }
   ],
   "source": [
    "# Convert into coefficient matrix \n",
    "coeff = np.asarray([data['A'], data['semf_surface'], data['semf_coulomb'],\n",
    "    data['semf_asymmetry'], data['semf_pairing']])\n",
    "# Transpose into columns\n",
    "coeff = coeff.T\n",
    "y = data['E']\n",
    "# Least squares regression to find parameters \n",
    "params = np.linalg.lstsq(coeff, y, rcond=None)[0]\n",
    "# Need parameters as column vector for next step\n",
    "params = params[:, np.newaxis]\n",
    "print(params)"
   ]
  },
  {
   "cell_type": "markdown",
   "metadata": {},
   "source": [
    "### Plotting the error between SEMF and the experimental masses. Notice the sharp peaks around magic numbers."
   ]
  },
  {
   "cell_type": "code",
   "execution_count": 5,
   "metadata": {},
   "outputs": [
    {
     "data": {
      "image/png": "[encoded data removed]",
      "text/plain": [
       "<Figure size 432x288 with 1 Axes>"
      ]
     },
     "metadata": {
      "needs_background": "light"
     },
     "output_type": "display_data"
    }
   ],
   "source": [
    "# Add SEMF predictions to dataset, plot comparison \n",
    "data['semf_E'] = np.matmul(coeff, params)\n",
    "# Plot difference between SEMF predictions and experimental values \n",
    "plt.scatter(data['A'], (data['semf_E'] - data['E']), label='SEMF')\n",
    "plt.xlabel('A')\n",
    "plt.ylabel('$E_{model} - E_{exp}$ (MeV)')\n",
    "plt.ylim(-15, 15)\n",
    "plt.legend(loc='lower center')\n",
    "plt.show()"
   ]
  },
  {
   "cell_type": "markdown",
   "metadata": {},
   "source": [
    "# Neural Network Fitting\n",
    "### The function below builds a feedforward neural network. It accepts a dataframe as input with a corresponding features list and single target (binding energy in our case). "
   ]
  },
  {
   "cell_type": "code",
   "execution_count": 6,
   "metadata": {},
   "outputs": [],
   "source": [
    "# Next, we design our model architecture to be optimized. Going with two hidden layers and ReLU activation.\n",
    "def dnn_model(df, features, target, hyparms):\n",
    "    #x_features = df[features]\n",
    "    #y_target = df[target]\n",
    "    batch_size = 64\n",
    "    # Splitting into training/testing sets \n",
    "    train_set = df.sample(frac=0.8, random_state=0)\n",
    "    test_set = df.drop(train_set.index)\n",
    "    x_train = train_set[features]\n",
    "    y_train = train_set[target]\n",
    "    #x_train, x_test, y_train, y_test = train_test_split(x_features,y_target,train_size=0.8)\n",
    "    # Creating normalizing object\n",
    "    normalizer = tf.keras.layers.Normalization(axis=-1)\n",
    "    # Adapting normalizer to inputs \n",
    "    normalizer.adapt(np.array(x_train))\n",
    "    # Specifying model architecture \n",
    "    DNN_model = keras.Sequential([\n",
    "      normalizer,\n",
    "      layers.Dropout(hyparms[3]),\n",
    "      layers.Dense(hyparms[1], activation='relu'),\n",
    "      layers.Dropout(hyparms[3]),\n",
    "      layers.Dense(hyparms[2], activation='relu'),\n",
    "      layers.Dropout(hyparms[3]),\n",
    "      # Regression problem requires only one linear output unit\n",
    "      layers.Dense(1)])\n",
    "    # Preventing overtraining with early stopping\n",
    "    stopping = tf.keras.callbacks.EarlyStopping(monitor='val_loss', patience=250, restore_best_weights=True)\n",
    "    # Loss function for regression, using Adam optimizer\n",
    "    DNN_model.compile(optimizer='Adam',\n",
    "              loss=tf.keras.losses.MeanAbsoluteError())\n",
    "    # Training model \n",
    "    history=DNN_model.fit(x_train, y_train,\n",
    "        batch_size=batch_size,\n",
    "        epochs=hyparms[0],\n",
    "        callbacks=[stopping],\n",
    "        verbose=0,\n",
    "        validation_split=0.2)\n",
    "    # Performance metrics during training \n",
    "    val_loss_per_epoch = history.history['val_loss']\n",
    "    # After training, predicting target from features \n",
    "    y_prediction = DNN_model.predict(df[features])\n",
    "    # Returning predicted energies and validation loss for model tuning\n",
    "    return y_prediction, val_loss_per_epoch"
   ]
  },
  {
   "cell_type": "markdown",
   "metadata": {},
   "source": [
    "### Refining the model's hyperparameters (nodes, dropout, epochs)."
   ]
  },
  {
   "cell_type": "code",
   "execution_count": 7,
   "metadata": {},
   "outputs": [],
   "source": [
    "# DNN features are same as SEMF \n",
    "features = ['A', 'semf_surface', 'semf_coulomb', 'semf_asymmetry', 'semf_pairing']\n",
    "\n",
    "# Creating function that trial runs the neural network for hyperparameter optimization\n",
    "def dnn_evaluate(hyparms):\n",
    "    n_nodes1 = int(hyparms['n_nodes1'])\n",
    "    n_nodes2 = int(hyparms['n_nodes2'])\n",
    "    frac_dropout = float(hyparms['frac_dropout'])\n",
    "    # Optimization will seek to minimize validation loss\n",
    "    model_loss = dnn_model(data, features, 'E', [30, n_nodes1, n_nodes2, frac_dropout])[1][-1]\n",
    "    return model_loss "
   ]
  },
  {
   "cell_type": "code",
   "execution_count": 8,
   "metadata": {},
   "outputs": [],
   "source": [
    "# Defining hyperparameter space to be explored by optimization\n",
    "\n",
    "space = {\n",
    "    'frac_dropout': hp.quniform('frac_dropout', 0, 0.5, 0.1),\n",
    "    'n_nodes1': hp.quniform('n_nodes1', 40,300,20),\n",
    "    'n_nodes2': hp.quniform('n_nodes2', 40,300,20),\n",
    "}\n",
    "\n",
    "# Results object\n",
    "trials = Trials()"
   ]
  },
  {
   "cell_type": "code",
   "execution_count": 9,
   "metadata": {},
   "outputs": [
    {
     "name": "stdout",
     "output_type": "stream",
     "text": [
      "  0%|          | 0/30 [00:00<?, ?trial/s, best loss=?]Metal device set to: Apple M1\n",
      "\n",
      "systemMemory: 8.00 GB\n",
      "maxCacheSize: 2.67 GB\n",
      "\n",
      "100%|██████████| 30/30 [02:44<00:00,  5.50s/trial, best loss: 5.6367387771606445]\n",
      "Val_loss 5.6367387771606445\n",
      "{'frac_dropout': 0.0, 'n_nodes1': 300.0, 'n_nodes2': 160.0}\n"
     ]
    }
   ],
   "source": [
    "# Optimizing\n",
    "besthyparms = fmin(dnn_evaluate, space, algo=tpe.suggest, max_evals=30, trials=trials)\n",
    "\n",
    "# Print results \n",
    "print(\"Val_loss\",trials.best_trial['result']['loss'])\n",
    "print(besthyparms)"
   ]
  },
  {
   "cell_type": "code",
   "execution_count": 10,
   "metadata": {},
   "outputs": [
    {
     "data": {
      "image/png": "[encoded data removed]",
      "text/plain": [
       "<Figure size 432x288 with 1 Axes>"
      ]
     },
     "metadata": {
      "needs_background": "light"
     },
     "output_type": "display_data"
    }
   ],
   "source": [
    "# Recording the best parameters from the optimization\n",
    "frac_dropout = besthyparms['frac_dropout']\n",
    "n_nodes1, n_nodes2 = besthyparms['n_nodes1'], besthyparms['n_nodes2']\n",
    "\n",
    "# Finding best number of training epochs\n",
    "n_epochs = 1000\n",
    "losses = dnn_model(data, features, 'E', [n_epochs, n_nodes1, n_nodes2, frac_dropout])[1]\n",
    "best_epoch = losses.index(min(losses)) + 1\n",
    "\n",
    "# Plotting loss vs. epoch\n",
    "plt.plot(np.arange(1, best_epoch+1), losses[:best_epoch])\n",
    "plt.xlabel('Epoch')\n",
    "plt.ylabel('Validation Loss')\n",
    "plt.ylim(0, 100)\n",
    "plt.title('Minimum at %3d epochs' % best_epoch)\n",
    "plt.show()"
   ]
  },
  {
   "cell_type": "markdown",
   "metadata": {},
   "source": [
    "### Saving neural network predictions into dataframe."
   ]
  },
  {
   "cell_type": "code",
   "execution_count": 11,
   "metadata": {},
   "outputs": [],
   "source": [
    "# Reinstantiating the neural network with the best number of epochs\n",
    "data['dnn_E'] = dnn_model(data, features, 'E', [best_epoch, n_nodes1, n_nodes2, frac_dropout])[0]"
   ]
  },
  {
   "cell_type": "markdown",
   "metadata": {},
   "source": [
    "# Results!\n",
    "### As expected, the neural network model can better fit the SEMF terms to the experimental masses. This improvement is due to the nonlinearity and greater number of parameters in the neural network. The peaks around magic numbers and overall error have been significantly reduced. "
   ]
  },
  {
   "cell_type": "code",
   "execution_count": 12,
   "metadata": {},
   "outputs": [
    {
     "name": "stdout",
     "output_type": "stream",
     "text": [
      "SEMF mean-squared error = 10.01, DNN mean-squared error = 4.98\n"
     ]
    },
    {
     "data": {
      "image/png": "[encoded data removed]",
      "text/plain": [
       "<Figure size 432x288 with 1 Axes>"
      ]
     },
     "metadata": {
      "needs_background": "light"
     },
     "output_type": "display_data"
    }
   ],
   "source": [
    "# Calculating mean-squared error in mass predictions for both SEMF and neural network\n",
    "SEMF_err = data['semf_E'] - data['E']\n",
    "SEMF_mse = np.sum(SEMF_err**2)/len(data.index)\n",
    "DNN_err = data['dnn_E'] - data['E']\n",
    "DNN_mse = np.sum(DNN_err**2)/len(data.index)\n",
    "print('SEMF mean-squared error = %2.2f, DNN mean-squared error = %2.2f' % (SEMF_mse, DNN_mse))\n",
    "\n",
    "# Comparing results\n",
    "plt.scatter(data['A'], SEMF_err, label='SEMF')\n",
    "plt.scatter(data['A'], DNN_err, label='DNN')\n",
    "plt.xlabel('A')\n",
    "plt.ylim(-15, 15)\n",
    "plt.ylabel('$E_{model} - E_{exp}$ (MeV)')\n",
    "plt.legend(loc='lower center')\n",
    "plt.show()"
   ]
  }
 ],
 "metadata": {
  "interpreter": {
   "hash": "4ec7c9a2149e7ca27f22d77cf766247da242708e0f4eab11c76049153c59f45f"
  },
  "kernelspec": {
   "display_name": "Python 3.9.10 ('base')",
   "language": "python",
   "name": "python3"
  },
  "language_info": {
   "codemirror_mode": {
    "name": "ipython",
    "version": 3
   },
   "file_extension": ".py",
   "mimetype": "text/x-python",
   "name": "python",
   "nbconvert_exporter": "python",
   "pygments_lexer": "ipython3",
   "version": "3.9.10"
  },
  "orig_nbformat": 4
 },
 "nbformat": 4,
 "nbformat_minor": 2
}
